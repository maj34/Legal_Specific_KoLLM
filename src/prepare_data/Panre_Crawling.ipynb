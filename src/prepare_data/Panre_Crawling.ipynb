{
 "cells": [
  {
   "cell_type": "markdown",
   "metadata": {},
   "source": [
    "# Panre List Collection"
   ]
  },
  {
   "cell_type": "code",
   "execution_count": 1,
   "metadata": {},
   "outputs": [],
   "source": [
    "import pandas as pd\n",
    "\n",
    "import xml.etree.ElementTree as ET\n",
    "from urllib.request import urlopen\n",
    "\n",
    "from tqdm import trange\n",
    "from tqdm import tqdm"
   ]
  },
  {
   "cell_type": "markdown",
   "metadata": {},
   "source": [
    "## EDA"
   ]
  },
  {
   "cell_type": "code",
   "execution_count": 2,
   "metadata": {},
   "outputs": [],
   "source": [
    "page = 1\n",
    "display = 100\n",
    "\n",
    "ID = ''\n",
    "BASE = \"https://www.law.go.kr/DRF/\"\n",
    "\n",
    "SEARCH_URL = f\"{BASE}lawSearch.do?OC={ID}&target=prec&type=XML&display={display}&page={page}\""
   ]
  },
  {
   "cell_type": "code",
   "execution_count": 3,
   "metadata": {},
   "outputs": [],
   "source": [
    "response = urlopen(SEARCH_URL).read()\n",
    "xtree = ET.fromstring(response)"
   ]
  },
  {
   "cell_type": "code",
   "execution_count": 4,
   "metadata": {},
   "outputs": [
    {
     "data": {
      "text/plain": [
       "87067"
      ]
     },
     "execution_count": 4,
     "metadata": {},
     "output_type": "execute_result"
    }
   ],
   "source": [
    "# 판례 개수\n",
    "totalCnt = int(xtree.find('totalCnt').text); totalCnt"
   ]
  },
  {
   "cell_type": "code",
   "execution_count": 5,
   "metadata": {},
   "outputs": [
    {
     "data": {
      "text/plain": [
       "871"
      ]
     },
     "execution_count": 5,
     "metadata": {},
     "output_type": "execute_result"
    }
   ],
   "source": [
    "int(totalCnt / display) + 1"
   ]
  },
  {
   "cell_type": "code",
   "execution_count": 6,
   "metadata": {},
   "outputs": [
    {
     "name": "stderr",
     "output_type": "stream",
     "text": [
      "  0%|          | 0/872 [00:00<?, ?it/s]"
     ]
    },
    {
     "name": "stderr",
     "output_type": "stream",
     "text": [
      "100%|██████████| 872/872 [02:46<00:00,  5.24it/s]\n"
     ]
    }
   ],
   "source": [
    "page = 1\n",
    "panre_list = []\n",
    "\n",
    "for i in trange(int(totalCnt / display) + 2):\n",
    "    SEARCH_URL = f\"{BASE}lawSearch.do?OC={ID}&target=prec&type=XML&display={display}&page={page}\"\n",
    "    \n",
    "    response = urlopen(SEARCH_URL).read()\n",
    "    xtree = ET.fromstring(response)\n",
    "\n",
    "    try:\n",
    "        items = xtree[5:]\n",
    "    except:\n",
    "        break\n",
    "    \n",
    "    for node in items:\n",
    "        판례일련번호 = node.find('판례일련번호').text\n",
    "        사건명 = node.find('사건명').text\n",
    "        사건번호 = node.find('사건번호').text\n",
    "        선고일자 = node.find('선고일자').text\n",
    "        법원명 = node.find('법원명').text\n",
    "        사건종류명 = node.find('사건종류명').text\n",
    "        사건종류코드 = node.find('사건종류코드').text\n",
    "        판결유형 = node.find('판결유형').text\n",
    "        선고 = node.find('선고').text\n",
    "        판례상세링크 = node.find('판례상세링크').text\n",
    "\n",
    "        panre_list.append({'판례일련번호': 판례일련번호,\n",
    "                    '사건명': 사건명,\n",
    "                    '사건번호': 사건번호,\n",
    "                    '선고일자': 선고일자,\n",
    "                    '법원명': 법원명,\n",
    "                    '사건종류명': 사건종류명,\n",
    "                    '사건종류코드': 사건종류코드,\n",
    "                    '판결유형': 판결유형,\n",
    "                    '선고': 선고,\n",
    "                    '판례상세링크': 판례상세링크})\n",
    "    \n",
    "    page += 1"
   ]
  },
  {
   "cell_type": "code",
   "execution_count": 7,
   "metadata": {},
   "outputs": [
    {
     "data": {
      "text/plain": [
       "87067"
      ]
     },
     "execution_count": 7,
     "metadata": {},
     "output_type": "execute_result"
    }
   ],
   "source": [
    "len(panre_list)"
   ]
  },
  {
   "cell_type": "code",
   "execution_count": 8,
   "metadata": {},
   "outputs": [],
   "source": [
    "panre_df = pd.DataFrame(panre_list)\n",
    "panre_df.to_csv('panre.csv', index=False)"
   ]
  },
  {
   "cell_type": "code",
   "execution_count": 20,
   "metadata": {},
   "outputs": [
    {
     "name": "stdout",
     "output_type": "stream",
     "text": [
      "<class 'pandas.core.frame.DataFrame'>\n",
      "RangeIndex: 87200 entries, 0 to 87199\n",
      "Data columns (total 10 columns):\n",
      " #   Column  Non-Null Count  Dtype \n",
      "---  ------  --------------  ----- \n",
      " 0   판례일련번호  87200 non-null  object\n",
      " 1   사건명     87200 non-null  object\n",
      " 2   사건번호    87200 non-null  object\n",
      " 3   선고일자    87200 non-null  object\n",
      " 4   법원명     87200 non-null  object\n",
      " 5   사건종류명   87200 non-null  object\n",
      " 6   사건종류코드  87200 non-null  object\n",
      " 7   판결유형    87200 non-null  object\n",
      " 8   선고      87200 non-null  object\n",
      " 9   판례상세링크  87200 non-null  object\n",
      "dtypes: object(10)\n",
      "memory usage: 6.7+ MB\n"
     ]
    }
   ],
   "source": [
    "panre_df.info()"
   ]
  },
  {
   "cell_type": "markdown",
   "metadata": {},
   "source": [
    "# Panre Crawling"
   ]
  },
  {
   "cell_type": "code",
   "execution_count": 39,
   "metadata": {},
   "outputs": [],
   "source": [
    "panre_df = pd.read_csv('panre.csv')"
   ]
  },
  {
   "cell_type": "code",
   "execution_count": 40,
   "metadata": {},
   "outputs": [],
   "source": [
    "ID = ''\n",
    "SERVICE_BASE = \"https://www.law.go.kr\"\n",
    "\n",
    "SERVICE_URL = SERVICE_BASE + panre_df.loc[0]['판례상세링크'].replace('HTML', 'XML')"
   ]
  },
  {
   "cell_type": "code",
   "execution_count": 47,
   "metadata": {},
   "outputs": [],
   "source": [
    "response = urlopen(SERVICE_URL).read()\n",
    "xtree = ET.fromstring(response)"
   ]
  },
  {
   "cell_type": "code",
   "execution_count": 48,
   "metadata": {},
   "outputs": [
    {
     "data": {
      "text/plain": [
       "[<Element '판례정보일련번호' at 0x16b3dcf40>,\n",
       " <Element '사건명' at 0x16b3f8c70>,\n",
       " <Element '사건번호' at 0x16b3f9580>,\n",
       " <Element '선고일자' at 0x16b3fa750>,\n",
       " <Element '선고' at 0x16b3fb7e0>,\n",
       " <Element '법원명' at 0x16b3fb6f0>,\n",
       " <Element '법원종류코드' at 0x16b3f9a80>,\n",
       " <Element '사건종류명' at 0x16b3f8540>,\n",
       " <Element '사건종류코드' at 0x16b3f8a40>,\n",
       " <Element '판결유형' at 0x16b3f8fe0>,\n",
       " <Element '판시사항' at 0x16b3fa890>,\n",
       " <Element '판결요지' at 0x16b3f84f0>,\n",
       " <Element '참조조문' at 0x16b3fb880>,\n",
       " <Element '참조판례' at 0x16b3f8860>,\n",
       " <Element '판례내용' at 0x16a891670>]"
      ]
     },
     "execution_count": 48,
     "metadata": {},
     "output_type": "execute_result"
    }
   ],
   "source": [
    "list(xtree)"
   ]
  },
  {
   "cell_type": "code",
   "execution_count": 35,
   "metadata": {},
   "outputs": [
    {
     "data": {
      "text/plain": [
       "'【원고, 피상고인 겸 상고인】 주식회사 서영엔지니어링<br/>【원고(선정당사자), 피상고인 겸 상고인】 원고(선정당사자) 2 (소송대리인 법무법인 시공 담당변호사 최승진 외 2인)<br/>【피고, 상고인】 이지스자산운용 주식회사 외 1인 (소송대리인 변호사 박종욱 외 5인)<br/>【피고, 피상고인】 주식회사 에스원 (소송대리인 법무법인(유한) 광장 담당변호사 여철기 외 3인)<br/>【피고3의 보조참가인】 주식회사 대교산업 (소송대리인 법무법인 도시와사람 담당변호사 계민혜 외 4인)<br/>【원심판결】 서울고법 2019. 1. 10. 선고 2018나2014531 판결<br/>【주    문】<br/>  상고를 모두 기각한다.  상고비용 중 원고들(선정당사자 포함)과 피고 이지스자산운용 주식회사, 주식회사 국민은행 사이에 생긴 부분은 위 피고들이, 원고들(선정당사자 포함)과 피고 주식회사 에스원 사이에 생긴 부분은 보조참가로 인한 부분을 포함하여 원고들(선정당사자 포함)이 각 부담한다.<br/><br/>【이    유】  상고이유(상고이유서 제출기간이 지난 후에 제출된 상고이유보충서의 기재는 상고이유를 보충하는 범위 내에서)를 판단한다.<br/>  1. 사안의 개요<br/>  원심판결 이유와 기록에 의하면 다음 사실을 알 수 있다. <br/>  가. 피고 이지스자산운용 주식회사(이하 ‘피고 이지스자산운용’이라고 한다)는 2013. 4. 30. 「자본시장과 금융투자업에 관한 법률」에 따라 투자신탁 형식의 사모부동산집합투자기구인 이지스KORIF사모부동산투자신탁22호(이하 ‘이 사건 펀드’라고 한다)를 설정하고 신탁업자인 피고 주식회사 국민은행(이하 ‘피고 국민은행’이라고 한다)과 신탁계약을 체결하였다.<br/>  나. 피고 국민은행은 2013. 7. 4. 피고 이지스자산운용의 운용지시에 따라 이 사건 펀드의 투자신탁재산으로 성남시 분당구 (주소 생략)에 있는 ○○빌딩(이하 ‘이 사건 건물’이라고 한다)에 관한 소유권을 취득하고, 2013. 8. 22. 원고 주식회사 서영엔지니어링(이하 ‘원고 서영엔지니어링’이라고 한다)에 이 사건 건물 중 6층 내지 12층 부분(이하 ‘이 사건 임차 부분’이라고 한다)을 임대차기간 2014. 2. 1.부터 2017. 1. 31.까지로 정하여 임대하였다(이하 ‘이 사건 임대차계약’이라고 한다). 피고 이지스자산운용은 이 사건 펀드를 설정, 운용하는 집합투자업자로서 함께 이 사건 임대차계약을 체결하였다.<br/>  다. 피고 이지스자산운용은 2015. 3. 10. 피고 주식회사 에스원(이하 ‘피고 에스원’이라고 한다)과 사이에 이 사건 건물의 운영 및 유지 관리 등을 포함하는 자산관리 업무에 관한 위탁계약(이하 ‘이 사건 자산관리 위탁계약’이라고 한다)을 체결하였다.<br/>  피고 에스원은 2015. 5. 29. 피고 에스원의 보조참가인 주식회사 대교산업과 사이에 이 사건 건물의 시설관리 등 업무에 관한 용역계약(이하 ‘이 사건 시설관리 용역계약’이라고 한다)을 체결하였다.<br/>  라. 2015. 12. 11. 20:18경 이 사건 건물 1층 주차장(이하 ‘이 사건 주차장’이라고 한다) 천장에서 화재가 발생하였고(이하 ‘이 사건 화재’라고 한다), 화염이 이 사건 임차 부분까지 확대되었다. 이로 인하여 원고 서영엔지니어링이 영위하는 사업에 차질이 생겼고, 원고 서영엔지니어링과 그 직원인 원고(선정당사자) 2 및 선정자들이 이 사건 임차 부분에 두었던 각종 전산장비, 집기부품 등이 훼손되었다[이하 원고 서영엔지니어링과 원고(선정당사자) 2 및 선정자들을 통칭하여 ‘원고들’이라고 한다].<br/>  2. 피고 에스원이 민법 제750조 불법행위로 인한 손해배상책임을 부담하는지에 관한 판단(원고들의 제1 상고이유)<br/>  원심은 피고 에스원이 이 사건 건물에 대한 유지·관리 업무를 소홀히 하였다거나 전기 및 시설 안전을 위하여 필요한 조치를 취하지 않는 등의 과실이 있다고 인정하기에 부족하다는 이유로 원고들의 피고 에스원에 대한 불법행위로 인한 손해배상청구를 배척하였다.<br/>  원심판결 이유를 기록에 비추어 살펴보면, 원심의 위와 같은 판단은 수긍할 수 있고, 거기에 원고들의 상고이유 주장과 같이 불법행위로 인한 손해배상책임의 인정 여부에 관한 채증법칙 위반 등으로 판결에 영향을 미친 잘못이 없다.<br/>  3. 이 사건 화재와 관련하여 공작물 점유자의 책임을 부담하는 자에 관한 판단(원고들의 제2 상고이유 및 피고 이지스자산운용, 국민은행의 제1 상고이유)<br/>  가. 물건에 대한 점유란 사회관념상 어떤 사람의 사실적 지배에 있다고 보이는 객관적 관계를 말하는 것으로서, 사실상의 지배가 있다고 하기 위하여는 반드시 물건을 물리적, 현실적으로 지배하여야만 하는 것이 아니고, 물건과 사람 사이의 시간적, 공간적 관계와 본권관계, 타인지배의 배제 가능성 등을 고려하여 사회통념에 따라 합목적적으로 판단하여야 한다(대법원 2001. 1. 16. 선고 98다20110 판결 등 참조).<br/>민법 제758조 제1항 소정의 공작물 점유자란 공작물을 사실상 지배하면서 그 설치 또는 보존상의 하자로 인하여 발생할 수 있는 각종 사고를 방지하기 위하여 공작물을 보수·관리할 권한 및 책임이 있는 자를 말한다(대법원 2000. 4. 21. 선고 2000다386 판결 등 참조).<br/>가사상, 영업상 기타 유사한 관계에 의하여 타인의 지시를 받아서 공작물에 대한 사실상의 지배를 하는 자가 있는 경우에 그 타인의 지시를 받는 자는 민법 제195조에 따른 점유보조자에 불과하므로 민법 제758조 제1항에 의한 공작물 점유자의 책임을 부담하는 자에 해당하지 않는다.<br/>  나. 원심은, 판시와 같은 사정을 기초로 다음과 같이 판단하였다. ① 이 사건 자산관리 위탁계약에 따라 이 사건 건물에 관한 자산관리 업무를 수행한 피고 에스원은 이 사건 건물에 투자한 이 사건 펀드의 집합투자업자로서 그 건물의 관리를 위탁한 피고 이지스자산운용의 점유를 돕기 위하여 이 사건 건물을 사실상 지배한 것이어서 민법 제195조에 따른 점유보조자의 지위에 있을 뿐이므로 민법 제758조 제1항에 의한 공작물 점유자로서의 책임을 부담하지 않는다. ② 반면에 피고 이지스자산운용은 피고 에스원에 이 사건 건물에 관한 관리 등의 업무를 지시하고 피고 에스원으로부터 업무보고를 받으며 자신이 정한 예산 범위 내에서 건물의 유지·관리 등에 필요한 비용을 지출하게 하는 등으로 피고 에스원을 점유보조자로 하여 이 사건 건물의 일부로서 이 사건 화재가 발생한 공작물인 이 사건 주차장 천장 부분에 관하여 직접 점유를 한 자이고, 피고 국민은행은 이 사건 펀드의 투자신탁재산인 이 사건 건물의 소유자로서 그 건물의 일부인 이 사건 주차장 천장 부분에 관하여 피고 이지스자산운용과 함께 직접 점유자의 지위에 있다고 볼 수 있다는 등의 이유로, 피고 이지스자산운용과 피고 국민은행이 공동으로 이 사건 주차장 천장을 사실상 지배하면서 그 설치 또는 보존상의 하자로 인하여 발생할 수 있는 각종 사고를 방지하기 위하여 그 공작물을 보수·관리할 권한 및 책임을 가지는 자에 해당하여 이 사건 화재와 관련하여 민법 제758조 제1항에 의한 공작물 점유자의 책임을 부담한다.<br/>  원심판결 이유를 앞서 본 법리와 기록에 비추어 살펴보면, 원심의 이유 설시에 미흡한 부분이 있기는 하나 공작물 점유자의 책임을 부담하는 자에 관하여 판단한 원심의 결론은 수긍할 수 있고, 거기에 원고들의 피고 에스원에 대한 상고이유 주장 및 피고 이지스자산운용, 국민은행의 상고이유 주장과 같이 민법 제758조 제1항에 따른 공작물 점유자에 관한 법리오해, 판례위반, 판단누락 및 심리미진 등으로 판결에 영향을 미친 잘못이 없다.<br/>  4. 이 사건 화재로 인한 매출 감소에 따라 원고 서영엔지니어링이 입은 손해액에 관한 판단(피고 이지스자산운용, 국민은행의 제2 상고이유)<br/>  원심은, 이 사건 화재로 원고 서영엔지니어링의 사업에 차질이 생김으로써 입은 손해를 산정하기 위하여, 과거 매출실적 분석 결과를 바탕으로 이 사건 화재로 사업에 차질이 생긴 기간을 2015. 12. 12.부터 2016. 3. 31.까지로 설정하면서 위 기간이 포함된 2015년 4분기와 2016년 1분기를 대상으로 추정한 예상 매출액과 실제 매출액의 차액을 기준으로 이 사건 화재로 인한 매출 감소액인 이른바 ‘손실 매출액’을 산정하였다. 그다음에 원심은, 원고 서영엔지니어링의 사업 차질로 입은 손해를 ‘매출 감소에 따라 영업이익을 얻지 못함으로써 발생한 손해’와 ‘고정비 중 일부를 매출 감소에 따라 회수할 수 없게 됨으로써 발생한 손해’로 나누어서, 전자는 ‘손실 매출액’에다가 2015년을 기준으로 추정한 ‘영업이익률’을 곱한 금액으로, 후자는 ‘손실 매출액’에다가 2015년을 기준으로 추정한 ‘고정비 비율’을 곱한 금액으로 각각 산정하였다.<br/>  원심판결 이유를 기록에 비추어 살펴보면, 원심의 손해액 산정방식과 구체적 산정 결과에 피고 이지스자산운용, 국민은행의 상고이유 주장과 같이 화재로 영업에 지장이 있었던 기간과 매출 감소로 인한 손해액을 과다하게 산정하는 등으로 손해액 산정에 관한 법리를 오해하여 판결에 영향을 미친 잘못이 없다.<br/>  5. 이 사건 화재로 인한 손해배상책임을「실화책임에 관한 법률」에 따라 경감 내지 제한할 수 있는지에 관한 판단(피고 이지스자산운용, 국민은행의 제3 상고이유)<br/>  가. 「실화책임에 관한 법률」(이하 ‘실화책임법’이라고 한다)은 실화로 인하여 일단 화재가 발생한 경우에는 부근 가옥 기타 물건에 연소함으로써 그 피해가 예상외로 확대되어 실화자의 책임이 과다하게 되는 점을 고려하여 그 책임을 제한함으로써 실화자를 지나치게 가혹한 부담으로부터 구제하고자 하는 데 그 입법 취지가 있으므로, 실화책임법은 발화점과 불가분의 일체를 이루는 물건의 소실, 즉 직접 화재에는 적용되지 아니하고, 그로부터 연소한 부분에만 적용된다(대법원 2000. 5. 26. 선고 99다32431 판결 등 참조).<br/>  나. 원심은 판시와 같은 이유로 이 사건 화재로 발생한 화염이 이 사건 임차 부분으로 확대되어 원고들이 입은 손해는 발화점과 불가분의 일체를 이루는 물건의 소실, 즉 직접 화재로 인한 것이므로, 연소로 인한 손해배상액의 경감에 관한 실화책임법 제3조를 피고 이지스자산운용, 국민은행의 원고들에 대한 손해배상책임에 적용할 수 없다고 판단하였다.<br/>  원심판결 이유를 앞서 본 법리와 기록에 비추어 살펴보면, 원심의 위와 같은 판단은 수긍할 수 있고, 거기에 피고 이지스자산운용, 국민은행의 상고이유 주장과 같이 실화책임법의 적용 대상에 관한 법리를 오해하는 등으로 판결에 영향을 미친 잘못이 없다.<br/>  6. 이 사건 화재로 인한 손해배상책임이 투자신탁재산을 한도로 하는 것인지에 관한 판단(피고 이지스자산운용, 국민은행의 제4 상고이유)<br/>  가. 구 「자본시장과 금융투자업에 관한 법률」(2018. 3. 27. 법률 제15549호로 개정되기 전의 것, 이하 ‘구 자본시장법’이라고 한다) 제80조 제2항에 의하면, 투자신탁의 집합투자업자가 투자신탁재산의 효율적 운용을 위하여 불가피하게 자신의 명의로 직접 투자대상자산의 취득·처분 등을 하거나 신탁업자가 집합투자업자의 운용지시에 따라 투자대상자산의 취득·처분 등을 한 경우에 집합투자업자와 신탁업자는 투자신탁재산을 한도로 하여 그 이행 책임을 부담하고, 다만 그 집합투자업자 또는 신탁업자가 구 자본시장법 제64조 제1항에 따라 법령 등을 위반하는 행위를 하거나 업무를 소홀히 하여 투자자에게 손해를 발생시켜서 손해배상책임을 지는 경우에는 고유재산으로도 책임을 부담한다.<br/>  한편 신탁법 제114조 제1항에 의하면, 신탁행위로 수탁자가 신탁재산에 속하는 채무에 대하여 신탁재산만으로 책임을 부담하는 유한책임신탁을 설정할 수 있는데, 이 경우 유한책임신탁의 등기를 하여야 그 효력이 발생한다.<br/>  나. 원심은 판시와 같은 이유를 들어 피고 이지스자산운용, 국민은행이 이 사건 화재와 관련하여 구 자본시장법 제80조 제2항 본문, 신탁법상 유한책임신탁 규정, 이 사건 임대차계약 전문 제4항 등에 따라 이 사건 펀드의 투자신탁재산을 한도로 공작물 점유자로서의 손해배상책임을 부담한다는 피고 이지스자산운용, 국민은행의 주장을 배척하였다.<br/>집합투자업자와 신탁업자가 민법 제758조 제1항에 따라 투자신탁재산인 공작물의 점유자로서 공작물의 설치 또는 보존의 하자로 피해를 입은 제3자에게 손해배상책임을 부담하는 경우에는 그 책임이 투자신탁재산의 취득·처분 등과 관련한 이행 책임이 아니므로, 투자신탁재산을 한도로만 책임을 부담하는 것이 아니라 고유재산으로도 그 책임을 부담하는 것으로 보아야 한다. 또한 유한책임신탁의 등기가 없는 이상 신탁법 제114조 제1항에 따른 유한책임신탁으로서의 효력도 없다. 원심판결 이유를 앞서 본 법리에 비추어 살펴보면, 같은 취지의 원심판단은 정당하고, 거기에 피고 이지스자산운용, 국민은행의 상고이유 주장과 같이 구 자본시장법 제80조 제2항 및 신탁법상 유한책임신탁제도 등에 의한 책임 부담 한도에 관한 법리를 오해하는 등으로 판결에 영향을 미친 잘못이 없다.<br/>  7. 결론<br/>  그러므로 상고를 모두 기각하고, 상고비용은 패소자가 부담하도록 하여 관여 대법관의 일치된 의견으로 주문과 같이 판결한다. <br/>[별   지] 선정자 명단: 생략<br/><br/>대법관 김상환(재판장) 이동원(주심) 오석준 '"
      ]
     },
     "execution_count": 35,
     "metadata": {},
     "output_type": "execute_result"
    }
   ],
   "source": [
    "xtree[14].text"
   ]
  },
  {
   "cell_type": "code",
   "execution_count": null,
   "metadata": {},
   "outputs": [],
   "source": [
    "panre_text_list = []\n",
    "\n",
    "for i in tqdm(range(len(panre_df))):\n",
    "    SERVICE_URL = SERVICE_BASE + panre_df.loc[i]['판례상세링크'].replace('HTML', 'XML')\n",
    "    \n",
    "    response = urlopen(SERVICE_URL).read()\n",
    "    xtree = ET.fromstring(response)\n",
    "    \n",
    "    판례정보일련번호 = xtree.find('판례정보일련번호').text\n",
    "    사건명 = xtree.find('사건명').text\n",
    "    사건번호 = xtree.find('사건번호').text\n",
    "    선고일자 = xtree.find('선고일자').text\n",
    "    선고 = xtree.find('선고').text\n",
    "    법원명 = xtree.find('법원명').text\n",
    "    법원종류코드 = xtree.find('법원종류코드').text\n",
    "    사건종류명 = xtree.find('사건종류명').text\n",
    "    사건종류코드 = xtree.find('사건종류코드').text\n",
    "    판결유형 = xtree.find('판결유형').text\n",
    "    판시사항 = xtree.find('판시사항').text\n",
    "    판결요지 = xtree.find('판결요지').text\n",
    "    참조조문 = xtree.find('참조조문').text\n",
    "    참조판례 = xtree.find('참조판례').text\n",
    "    판례내용 = xtree.find('판례내용').text\n",
    "\n",
    "    panre_text_list.append({'판례정보일련번호': 판례정보일련번호,\n",
    "                '사건명': 사건명,\n",
    "                '사건번호': 사건번호,\n",
    "                '선고일자': 선고일자,\n",
    "                '선고': 선고,\n",
    "                '법원명': 법원명,\n",
    "                '법원종류코드': 법원종류코드,\n",
    "                '사건종류명': 사건종류명,\n",
    "                '사건종류코드': 사건종류코드,\n",
    "                '판결유형': 판결유형,\n",
    "                '판시사항': 판시사항,\n",
    "                '판결요지': 판결요지,\n",
    "                '참조조문': 참조조문,\n",
    "                '참조판례': 참조판례,\n",
    "                '판례내용': 판례내용\n",
    "        })"
   ]
  },
  {
   "cell_type": "code",
   "execution_count": 57,
   "metadata": {},
   "outputs": [],
   "source": [
    "panre_text_list_df = pd.DataFrame(panre_text_list)\n",
    "panre_text_list_df.to_csv('panre_text.csv', index=False)"
   ]
  },
  {
   "cell_type": "markdown",
   "metadata": {},
   "source": [
    "----"
   ]
  }
 ],
 "metadata": {
  "kernelspec": {
   "display_name": "base",
   "language": "python",
   "name": "python3"
  },
  "language_info": {
   "codemirror_mode": {
    "name": "ipython",
    "version": 3
   },
   "file_extension": ".py",
   "mimetype": "text/x-python",
   "name": "python",
   "nbconvert_exporter": "python",
   "pygments_lexer": "ipython3",
   "version": "3.11.5"
  }
 },
 "nbformat": 4,
 "nbformat_minor": 2
}
