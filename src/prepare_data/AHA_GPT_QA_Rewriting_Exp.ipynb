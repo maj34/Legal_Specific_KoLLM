{
 "cells": [
  {
   "cell_type": "markdown",
   "metadata": {},
   "source": [
    "# GPT QA Rewriting"
   ]
  },
  {
   "cell_type": "code",
   "execution_count": 1,
   "metadata": {},
   "outputs": [],
   "source": [
    "import time\n",
    "import json\n",
    "import pandas as pd\n",
    "import numpy as np\n",
    "\n",
    "from typing import Union\n",
    "from tqdm import tqdm\n",
    "\n",
    "import openai\n",
    "from openai import AsyncOpenAI\n",
    "from openai import OpenAI\n",
    "\n",
    "import asyncio\n",
    "import nest_asyncio"
   ]
  },
  {
   "cell_type": "markdown",
   "metadata": {},
   "source": [
    "## Import Data"
   ]
  },
  {
   "cell_type": "code",
   "execution_count": 2,
   "metadata": {},
   "outputs": [
    {
     "data": {
      "text/html": [
       "<div>\n",
       "<style scoped>\n",
       "    .dataframe tbody tr th:only-of-type {\n",
       "        vertical-align: middle;\n",
       "    }\n",
       "\n",
       "    .dataframe tbody tr th {\n",
       "        vertical-align: top;\n",
       "    }\n",
       "\n",
       "    .dataframe thead th {\n",
       "        text-align: right;\n",
       "    }\n",
       "</style>\n",
       "<table border=\"1\" class=\"dataframe\">\n",
       "  <thead>\n",
       "    <tr style=\"text-align: right;\">\n",
       "      <th></th>\n",
       "      <th>urls</th>\n",
       "      <th>title</th>\n",
       "      <th>question</th>\n",
       "      <th>answer</th>\n",
       "    </tr>\n",
       "  </thead>\n",
       "  <tbody>\n",
       "    <tr>\n",
       "      <th>0</th>\n",
       "      <td>https://www.a-ha.io/questions/4cb726a43f6fea7f...</td>\n",
       "      <td>상법에서 정한 기한을 넘어선 주주총회의사록 공증 진행시 효력이 있는지요?</td>\n",
       "      <td>안녕하세요,주주총회를 진행한 이후 일정 기간안에 법무사를 통한 공증을 진행해야 하는...</td>\n",
       "      <td>[안녕하세요. 이성재 변호사입니다.주주총회 결의사항 중 등기사항이 없다면 공증을 받...</td>\n",
       "    </tr>\n",
       "    <tr>\n",
       "      <th>1</th>\n",
       "      <td>https://www.a-ha.io/questions/4a8035d424b93c9e...</td>\n",
       "      <td>형사사법포털에는 기소유예가 떴는데 아직 어떠한 연락도 안와서요 혹시 왜그런건가요?</td>\n",
       "      <td>점유이탈횡령죄로 조사받고 얼마전 2일 기소유예 처분을 받았습니다. 근데 연락 받아서...</td>\n",
       "      <td>[안녕하세요? 아하(Aha) 법률 상담 지식답변자 김성훈 변호사입니다. 질문하신 내...</td>\n",
       "    </tr>\n",
       "    <tr>\n",
       "      <th>2</th>\n",
       "      <td>https://www.a-ha.io/questions/496d83cb9dfc2408...</td>\n",
       "      <td>자본금 10억 미만의 법인회사에서 이사가 1명일 때 발생하는 문제점</td>\n",
       "      <td>안녕하세요,자본금 10억 미만의 회사지만 외부에서 투자를 많이 받고 있습니다.자본금...</td>\n",
       "      <td>[10억 미만의 회사이고 이사가 과반주주권자라면,주주총회 등을 적법하게 통지하고 개...</td>\n",
       "    </tr>\n",
       "    <tr>\n",
       "      <th>3</th>\n",
       "      <td>https://www.a-ha.io/questions/4860dd4377505d30...</td>\n",
       "      <td>모든 계약은 법적으로 15일이내 해지가 가능한지요~?</td>\n",
       "      <td>한 회사(판매 사업)에 지사 계약을 일주일전에 했는데 할수없는상황이 되서 해지를 하...</td>\n",
       "      <td>[모든 계약에 대해서는 15일 만에 해지가 가능하다고 하는 규정은 따로 없습니다해당...</td>\n",
       "    </tr>\n",
       "    <tr>\n",
       "      <th>4</th>\n",
       "      <td>https://www.a-ha.io/questions/4afe128df4bd0726...</td>\n",
       "      <td>항소심 재판은 어떻게 진행되는건가요?</td>\n",
       "      <td>아는 지인이 항소후에 항소심 재판이 열리는데 어떻게 진행되는지 궁금합니다. 혹시 변...</td>\n",
       "      <td>[안녕하세요? 아하(Aha) 법률 상담 지식답변자 김성훈 변호사입니다. 질문하신 내...</td>\n",
       "    </tr>\n",
       "  </tbody>\n",
       "</table>\n",
       "</div>"
      ],
      "text/plain": [
       "                                                urls  \\\n",
       "0  https://www.a-ha.io/questions/4cb726a43f6fea7f...   \n",
       "1  https://www.a-ha.io/questions/4a8035d424b93c9e...   \n",
       "2  https://www.a-ha.io/questions/496d83cb9dfc2408...   \n",
       "3  https://www.a-ha.io/questions/4860dd4377505d30...   \n",
       "4  https://www.a-ha.io/questions/4afe128df4bd0726...   \n",
       "\n",
       "                                           title  \\\n",
       "0       상법에서 정한 기한을 넘어선 주주총회의사록 공증 진행시 효력이 있는지요?   \n",
       "1  형사사법포털에는 기소유예가 떴는데 아직 어떠한 연락도 안와서요 혹시 왜그런건가요?   \n",
       "2          자본금 10억 미만의 법인회사에서 이사가 1명일 때 발생하는 문제점   \n",
       "3                  모든 계약은 법적으로 15일이내 해지가 가능한지요~?   \n",
       "4                           항소심 재판은 어떻게 진행되는건가요?   \n",
       "\n",
       "                                            question  \\\n",
       "0  안녕하세요,주주총회를 진행한 이후 일정 기간안에 법무사를 통한 공증을 진행해야 하는...   \n",
       "1  점유이탈횡령죄로 조사받고 얼마전 2일 기소유예 처분을 받았습니다. 근데 연락 받아서...   \n",
       "2  안녕하세요,자본금 10억 미만의 회사지만 외부에서 투자를 많이 받고 있습니다.자본금...   \n",
       "3  한 회사(판매 사업)에 지사 계약을 일주일전에 했는데 할수없는상황이 되서 해지를 하...   \n",
       "4  아는 지인이 항소후에 항소심 재판이 열리는데 어떻게 진행되는지 궁금합니다. 혹시 변...   \n",
       "\n",
       "                                              answer  \n",
       "0  [안녕하세요. 이성재 변호사입니다.주주총회 결의사항 중 등기사항이 없다면 공증을 받...  \n",
       "1  [안녕하세요? 아하(Aha) 법률 상담 지식답변자 김성훈 변호사입니다. 질문하신 내...  \n",
       "2  [10억 미만의 회사이고 이사가 과반주주권자라면,주주총회 등을 적법하게 통지하고 개...  \n",
       "3  [모든 계약에 대해서는 15일 만에 해지가 가능하다고 하는 규정은 따로 없습니다해당...  \n",
       "4  [안녕하세요? 아하(Aha) 법률 상담 지식답변자 김성훈 변호사입니다. 질문하신 내...  "
      ]
     },
     "execution_count": 2,
     "metadata": {},
     "output_type": "execute_result"
    }
   ],
   "source": [
    "with open('../../data/a_ha_original.json', 'r') as f:\n",
    "    data = json.load(f)\n",
    "\n",
    "df = pd.DataFrame(data).transpose()\n",
    "df.head()"
   ]
  },
  {
   "cell_type": "code",
   "execution_count": 3,
   "metadata": {},
   "outputs": [
    {
     "data": {
      "text/html": [
       "<div>\n",
       "<style scoped>\n",
       "    .dataframe tbody tr th:only-of-type {\n",
       "        vertical-align: middle;\n",
       "    }\n",
       "\n",
       "    .dataframe tbody tr th {\n",
       "        vertical-align: top;\n",
       "    }\n",
       "\n",
       "    .dataframe thead th {\n",
       "        text-align: right;\n",
       "    }\n",
       "</style>\n",
       "<table border=\"1\" class=\"dataframe\">\n",
       "  <thead>\n",
       "    <tr style=\"text-align: right;\">\n",
       "      <th></th>\n",
       "      <th>urls</th>\n",
       "      <th>제목</th>\n",
       "      <th>본문</th>\n",
       "      <th>대답</th>\n",
       "    </tr>\n",
       "  </thead>\n",
       "  <tbody>\n",
       "    <tr>\n",
       "      <th>0</th>\n",
       "      <td>https://www.a-ha.io/questions/4cb726a43f6fea7f...</td>\n",
       "      <td>상법에서 정한 기한을 넘어선 주주총회의사록 공증 진행시 효력이 있는지요?</td>\n",
       "      <td>안녕하세요,주주총회를 진행한 이후 일정 기간안에 법무사를 통한 공증을 진행해야 하는...</td>\n",
       "      <td>[안녕하세요. 이성재 변호사입니다.주주총회 결의사항 중 등기사항이 없다면 공증을 받...</td>\n",
       "    </tr>\n",
       "    <tr>\n",
       "      <th>1</th>\n",
       "      <td>https://www.a-ha.io/questions/4a8035d424b93c9e...</td>\n",
       "      <td>형사사법포털에는 기소유예가 떴는데 아직 어떠한 연락도 안와서요 혹시 왜그런건가요?</td>\n",
       "      <td>점유이탈횡령죄로 조사받고 얼마전 2일 기소유예 처분을 받았습니다. 근데 연락 받아서...</td>\n",
       "      <td>[안녕하세요? 아하(Aha) 법률 상담 지식답변자 김성훈 변호사입니다. 질문하신 내...</td>\n",
       "    </tr>\n",
       "    <tr>\n",
       "      <th>2</th>\n",
       "      <td>https://www.a-ha.io/questions/496d83cb9dfc2408...</td>\n",
       "      <td>자본금 10억 미만의 법인회사에서 이사가 1명일 때 발생하는 문제점</td>\n",
       "      <td>안녕하세요,자본금 10억 미만의 회사지만 외부에서 투자를 많이 받고 있습니다.자본금...</td>\n",
       "      <td>[10억 미만의 회사이고 이사가 과반주주권자라면,주주총회 등을 적법하게 통지하고 개...</td>\n",
       "    </tr>\n",
       "    <tr>\n",
       "      <th>3</th>\n",
       "      <td>https://www.a-ha.io/questions/4860dd4377505d30...</td>\n",
       "      <td>모든 계약은 법적으로 15일이내 해지가 가능한지요~?</td>\n",
       "      <td>한 회사(판매 사업)에 지사 계약을 일주일전에 했는데 할수없는상황이 되서 해지를 하...</td>\n",
       "      <td>[모든 계약에 대해서는 15일 만에 해지가 가능하다고 하는 규정은 따로 없습니다해당...</td>\n",
       "    </tr>\n",
       "    <tr>\n",
       "      <th>4</th>\n",
       "      <td>https://www.a-ha.io/questions/4afe128df4bd0726...</td>\n",
       "      <td>항소심 재판은 어떻게 진행되는건가요?</td>\n",
       "      <td>아는 지인이 항소후에 항소심 재판이 열리는데 어떻게 진행되는지 궁금합니다. 혹시 변...</td>\n",
       "      <td>[안녕하세요? 아하(Aha) 법률 상담 지식답변자 김성훈 변호사입니다. 질문하신 내...</td>\n",
       "    </tr>\n",
       "  </tbody>\n",
       "</table>\n",
       "</div>"
      ],
      "text/plain": [
       "                                                urls  \\\n",
       "0  https://www.a-ha.io/questions/4cb726a43f6fea7f...   \n",
       "1  https://www.a-ha.io/questions/4a8035d424b93c9e...   \n",
       "2  https://www.a-ha.io/questions/496d83cb9dfc2408...   \n",
       "3  https://www.a-ha.io/questions/4860dd4377505d30...   \n",
       "4  https://www.a-ha.io/questions/4afe128df4bd0726...   \n",
       "\n",
       "                                              제목  \\\n",
       "0       상법에서 정한 기한을 넘어선 주주총회의사록 공증 진행시 효력이 있는지요?   \n",
       "1  형사사법포털에는 기소유예가 떴는데 아직 어떠한 연락도 안와서요 혹시 왜그런건가요?   \n",
       "2          자본금 10억 미만의 법인회사에서 이사가 1명일 때 발생하는 문제점   \n",
       "3                  모든 계약은 법적으로 15일이내 해지가 가능한지요~?   \n",
       "4                           항소심 재판은 어떻게 진행되는건가요?   \n",
       "\n",
       "                                                  본문  \\\n",
       "0  안녕하세요,주주총회를 진행한 이후 일정 기간안에 법무사를 통한 공증을 진행해야 하는...   \n",
       "1  점유이탈횡령죄로 조사받고 얼마전 2일 기소유예 처분을 받았습니다. 근데 연락 받아서...   \n",
       "2  안녕하세요,자본금 10억 미만의 회사지만 외부에서 투자를 많이 받고 있습니다.자본금...   \n",
       "3  한 회사(판매 사업)에 지사 계약을 일주일전에 했는데 할수없는상황이 되서 해지를 하...   \n",
       "4  아는 지인이 항소후에 항소심 재판이 열리는데 어떻게 진행되는지 궁금합니다. 혹시 변...   \n",
       "\n",
       "                                                  대답  \n",
       "0  [안녕하세요. 이성재 변호사입니다.주주총회 결의사항 중 등기사항이 없다면 공증을 받...  \n",
       "1  [안녕하세요? 아하(Aha) 법률 상담 지식답변자 김성훈 변호사입니다. 질문하신 내...  \n",
       "2  [10억 미만의 회사이고 이사가 과반주주권자라면,주주총회 등을 적법하게 통지하고 개...  \n",
       "3  [모든 계약에 대해서는 15일 만에 해지가 가능하다고 하는 규정은 따로 없습니다해당...  \n",
       "4  [안녕하세요? 아하(Aha) 법률 상담 지식답변자 김성훈 변호사입니다. 질문하신 내...  "
      ]
     },
     "execution_count": 3,
     "metadata": {},
     "output_type": "execute_result"
    }
   ],
   "source": [
    "df.rename(columns={'title': '제목'}, inplace=True)\n",
    "df.rename(columns={'question': '본문'}, inplace=True)\n",
    "df.rename(columns={'answer': '대답'}, inplace=True)\n",
    "df.head()"
   ]
  },
  {
   "cell_type": "markdown",
   "metadata": {},
   "source": [
    "## GPT API"
   ]
  },
  {
   "cell_type": "code",
   "execution_count": 4,
   "metadata": {},
   "outputs": [],
   "source": [
    "nest_asyncio.apply()\n",
    "\n",
    "client = AsyncOpenAI(\n",
    "    api_key = '' \n",
    ")"
   ]
  },
  {
   "cell_type": "markdown",
   "metadata": {},
   "source": [
    "## Prompt Generation"
   ]
  },
  {
   "cell_type": "code",
   "execution_count": 5,
   "metadata": {},
   "outputs": [],
   "source": [
    "with open('../prompt/AHA_Prompt.txt', 'r') as f:\n",
    "    prompt_file = f.read()"
   ]
  },
  {
   "cell_type": "code",
   "execution_count": null,
   "metadata": {},
   "outputs": [],
   "source": [
    "# gpt-4\n",
    "\n",
    "async def gpt_generate(title, body, original_answer):\n",
    "    prompt = prompt_file.format(title, body, original_answer)\n",
    "\n",
    "    completion = await client.chat.completions.create(\n",
    "                    model = 'gpt-4', \n",
    "                    messages = [\n",
    "                        {\"role\": \"user\",\n",
    "                         \"content\": [\n",
    "                            {\"type\": \"text\", \"text\": f\"{prompt}\"},\n",
    "                            ]}], \n",
    "                    max_tokens = 300,\n",
    "                    n = 1,\n",
    "                    temperature = 0)\n",
    "\n",
    "    return completion.choices[0].message.content"
   ]
  },
  {
   "cell_type": "code",
   "execution_count": 17,
   "metadata": {},
   "outputs": [],
   "source": [
    "# gpt-4-turbo\n",
    "\n",
    "async def gpt_generate(title, body, original_answer):\n",
    "    prompt = prompt_file.format(title, body, original_answer)\n",
    "\n",
    "    completion = await client.chat.completions.create(\n",
    "                    model = 'gpt-4-turbo',\n",
    "                    messages = [\n",
    "                        {\"role\": \"user\",\n",
    "                         \"content\": [\n",
    "                            {\"type\": \"text\", \"text\": f\"{prompt}\"},\n",
    "                            ]}], \n",
    "                    max_tokens = 300,\n",
    "                    n = 1,\n",
    "                    temperature = 0)\n",
    "\n",
    "    return completion.choices[0].message.content"
   ]
  },
  {
   "cell_type": "code",
   "execution_count": 16,
   "metadata": {},
   "outputs": [],
   "source": [
    "# gpt-3.5-turbo\n",
    "\n",
    "def gpt_generate(title, body, original_answer):\n",
    "    prompt = prompt_file.format(title, body, original_answer)\n",
    "    \n",
    "    completion = client.chat.completions.create(\n",
    "    model=\"gpt-3.5-turbo\",\n",
    "    messages=[\n",
    "        {\"role\": \"user\", \"content\": f\"{prompt}\"}\n",
    "    ]\n",
    "    )\n",
    "\n",
    "    return completion.choices[0].message.content"
   ]
  },
  {
   "cell_type": "code",
   "execution_count": 20,
   "metadata": {},
   "outputs": [],
   "source": [
    "# gpt-3.5-turbo-instruct\n",
    "\n",
    "def gpt_generate(title, body, original_answer):\n",
    "    prompt = prompt_file.format(title, body, original_answer)\n",
    "    \n",
    "    completion = client.completions.create(\n",
    "    model=\"gpt-3.5-turbo-instruct\",\n",
    "    prompt=prompt\n",
    "    )\n",
    "\n",
    "    return completion.choices[0]"
   ]
  },
  {
   "cell_type": "code",
   "execution_count": 26,
   "metadata": {},
   "outputs": [
    {
     "data": {
      "text/html": [
       "<div>\n",
       "<style scoped>\n",
       "    .dataframe tbody tr th:only-of-type {\n",
       "        vertical-align: middle;\n",
       "    }\n",
       "\n",
       "    .dataframe tbody tr th {\n",
       "        vertical-align: top;\n",
       "    }\n",
       "\n",
       "    .dataframe thead th {\n",
       "        text-align: right;\n",
       "    }\n",
       "</style>\n",
       "<table border=\"1\" class=\"dataframe\">\n",
       "  <thead>\n",
       "    <tr style=\"text-align: right;\">\n",
       "      <th></th>\n",
       "      <th>urls</th>\n",
       "      <th>제목</th>\n",
       "      <th>본문</th>\n",
       "      <th>대답</th>\n",
       "    </tr>\n",
       "  </thead>\n",
       "  <tbody>\n",
       "    <tr>\n",
       "      <th>111330</th>\n",
       "      <td>https://www.a-ha.io/questions/4a32d8fe397217f5...</td>\n",
       "      <td>전세보증금 선순위에 대해서 질문하고싶습니다</td>\n",
       "      <td>현재 1억8천짜리 전세에 살고 있는데요 지금 매매가는 2억3천정도 입니다. 다행히 ...</td>\n",
       "      <td>[안녕하십니까월드클래스 법률사무소의 이승환 대표변호사입니다전입신고와 확정일자를 받았...</td>\n",
       "    </tr>\n",
       "    <tr>\n",
       "      <th>111331</th>\n",
       "      <td>https://www.a-ha.io/questions/4e414d01a0773f29...</td>\n",
       "      <td>공증이란 것이 법적으로 효력이 있는 것인가요?</td>\n",
       "      <td>친한 친구가 공증을 받고 1300만원을 다른 사람에게 빌려줬다던데, 공증이 법적 효...</td>\n",
       "      <td>[안녕하십니까월드클래스 법률사무소의 이승환 변호사입니다.공증과 관련하여 사서증서 인...</td>\n",
       "    </tr>\n",
       "    <tr>\n",
       "      <th>111332</th>\n",
       "      <td>https://www.a-ha.io/questions/413289513d835fb8...</td>\n",
       "      <td>경매로 인한 채권회수에 관한 내용입니다. 답변 부탁드립니다.</td>\n",
       "      <td>전세로 살던집이 경매로 매각이 되어 버렸습니다. 임차인은 후순위 채권자로 경매로인한...</td>\n",
       "      <td>[법무법인 에스엔의 홍경열 변호사입니다임차인은 전입신고와 확정일자를 갖춘경우 그 일...</td>\n",
       "    </tr>\n",
       "    <tr>\n",
       "      <th>111333</th>\n",
       "      <td>https://www.a-ha.io/questions/44df3de51a8f6e3d...</td>\n",
       "      <td>등기의 공신력 문의 드립니다.</td>\n",
       "      <td>우리나라는 부동산등기에 대한 공신력을 인정 받지 못하고 있습니다. 국민들은 부동산매...</td>\n",
       "      <td>[법무법인 에스엔의 홍경열 변호사입니다질문자께서 말씀하신바와 같이 부동산등기에는 공...</td>\n",
       "    </tr>\n",
       "    <tr>\n",
       "      <th>111334</th>\n",
       "      <td>https://www.a-ha.io/questions/4a18042f09713d19...</td>\n",
       "      <td>부동산등기에 관한 법률 질문 입니다</td>\n",
       "      <td>부동산 등기부에는 등기 선순위  저당권이 없어 최우선우 순위로 생각하고 임대계약을 ...</td>\n",
       "      <td>[안녕하십니까월드클래스 법률사무소의 이승환변호사입니다.주택임대차보호법에 따르는 경우...</td>\n",
       "    </tr>\n",
       "  </tbody>\n",
       "</table>\n",
       "</div>"
      ],
      "text/plain": [
       "                                                     urls  \\\n",
       "111330  https://www.a-ha.io/questions/4a32d8fe397217f5...   \n",
       "111331  https://www.a-ha.io/questions/4e414d01a0773f29...   \n",
       "111332  https://www.a-ha.io/questions/413289513d835fb8...   \n",
       "111333  https://www.a-ha.io/questions/44df3de51a8f6e3d...   \n",
       "111334  https://www.a-ha.io/questions/4a18042f09713d19...   \n",
       "\n",
       "                                       제목  \\\n",
       "111330            전세보증금 선순위에 대해서 질문하고싶습니다   \n",
       "111331          공증이란 것이 법적으로 효력이 있는 것인가요?   \n",
       "111332  경매로 인한 채권회수에 관한 내용입니다. 답변 부탁드립니다.   \n",
       "111333                   등기의 공신력 문의 드립니다.   \n",
       "111334                부동산등기에 관한 법률 질문 입니다   \n",
       "\n",
       "                                                       본문  \\\n",
       "111330  현재 1억8천짜리 전세에 살고 있는데요 지금 매매가는 2억3천정도 입니다. 다행히 ...   \n",
       "111331  친한 친구가 공증을 받고 1300만원을 다른 사람에게 빌려줬다던데, 공증이 법적 효...   \n",
       "111332  전세로 살던집이 경매로 매각이 되어 버렸습니다. 임차인은 후순위 채권자로 경매로인한...   \n",
       "111333  우리나라는 부동산등기에 대한 공신력을 인정 받지 못하고 있습니다. 국민들은 부동산매...   \n",
       "111334  부동산 등기부에는 등기 선순위  저당권이 없어 최우선우 순위로 생각하고 임대계약을 ...   \n",
       "\n",
       "                                                       대답  \n",
       "111330  [안녕하십니까월드클래스 법률사무소의 이승환 대표변호사입니다전입신고와 확정일자를 받았...  \n",
       "111331  [안녕하십니까월드클래스 법률사무소의 이승환 변호사입니다.공증과 관련하여 사서증서 인...  \n",
       "111332  [법무법인 에스엔의 홍경열 변호사입니다임차인은 전입신고와 확정일자를 갖춘경우 그 일...  \n",
       "111333  [법무법인 에스엔의 홍경열 변호사입니다질문자께서 말씀하신바와 같이 부동산등기에는 공...  \n",
       "111334  [안녕하십니까월드클래스 법률사무소의 이승환변호사입니다.주택임대차보호법에 따르는 경우...  "
      ]
     },
     "execution_count": 26,
     "metadata": {},
     "output_type": "execute_result"
    }
   ],
   "source": [
    "df.tail()"
   ]
  },
  {
   "cell_type": "code",
   "execution_count": 18,
   "metadata": {},
   "outputs": [],
   "source": [
    "result_list4_tail = []\n",
    "\n",
    "for i in df.tail().iterrows():\n",
    "    loop = asyncio.get_event_loop()\n",
    "    result = loop.run_until_complete(gpt_generate(i[1]['제목'], i[1]['본문'], i[1]['대답']))\n",
    "    result_list4_tail.append(result)"
   ]
  },
  {
   "cell_type": "code",
   "execution_count": 101,
   "metadata": {},
   "outputs": [
    {
     "data": {
      "text/plain": [
       "['질문: 전세에 살고 있는데 집주인이 전세금을 돌려주지 못할 경우, 법률적으로 제가 1순위가 되는지와 돌려받지 못할 시 법적 처리 방법은 어떻게 되는지 알고 싶습니다.\\n답변: 전입신고와 확정일자를 받았고, 그 이전에 근저당을 처리했다면, 법률적으로 보증금 반환에 대한 1순위가 됩니다. 만약 보증금을 돌려받지 못한다면, 법원에 보증금 반환 소송을 진행하여 확정판결을 받은 후 부동산에 대한 강제경매를 진행할 수 있습니다. 그리고 전부 돌려받지 못하는 경우에는 임대인의 다른 부동산, 동산 등에 대해서도 강제집행을 할 수 있습니다. 다만, 이 과정에서 미리 가압류, 가처분 등이 필요할 수 있습니다.',\n",
       " '질문: 친구가 1300만원을 빌려줄 때 공증을 받았는데, 이 공증이 법적 효력이 있는지, 그리고 그 효력이 어느 정도인지 알고 싶습니다.\\n답변: 공증은 법적 효력이 있습니다. 공증은 사서증서의 인증을 받는 경우, 작성명의인의 의사에 따라 작성되었다는 것을 공증인이 확인하는 것입니다. 특히, 금전소비대차(돈을 빌려주는 것)를 할 때 강제집행 인낙의 표시가 있는 공정증서를 작성(공증인이 작성)하면, 법원의 확정판결 없이 바로 강제집행을 할 수 있습니다.',\n",
       " '질문: 전세로 살던 집이 경매로 매각되어 일부만 채권을 돌려받았을 경우, 임대인에 대한 채권회수를 위한 별도의 소를 진행할 수 있는지, 그리고 그 방법과 절차는 무엇인지 알고 싶습니다.\\n답변: 임차인은 전입신고와 확정일자를 갖춘 경우 저당권자와 유사한 위치를 가지므로 반드시 후순위권자라고 할 수는 없습니다. 그러나 확정일자를 받아두지 못하였거나 선순위 저당권자들보다 순위가 낮아 경매절차에서 임차보증금을 전액 회수하지 못한 경우에는 남은 채권에 대하여 청구할 수 있고, 소송이나 압류 등 후속절차를 진행할 수 있습니다. 이 경우 임대인의 다른 부동산이나 동산 등에 대해 먼저 보전처분(가압류, 가처분)을 하고, 본안 소송을 제기한 후 확정이 된다면 집행절차에 착수하면 됩니다. 그러나 임대인에게 별다른 재산이나 소득이 없는 경우에는 회수가 불가능한 경우가 생길 수 있습니다. 따라서 임대차 계약 체결 당시 꼭 등기부를 확인하시고 해당 부동산의 시세와 선순위 저당권자의 채권을 파악한 뒤 계약을 하게 되면 꼭 확',\n",
       " '질문: 우리나라에서 부동산등기에 대한 공신력이 인정받지 않는 이유와, 부동산등기부를 믿고 매매를 했는데 추후에 실제 부동산 소유자가 나타나서 소유권을 빼았겼을 경우, 이에 대한 책임은 누구에게 있는지 알고 싶습니다. 또한, 이런 상황에서 매수인이 어떤 조치를 취해야 하는지 알려주세요.\\n답변: 부동산등기에는 공신력이 없는데, 이는 매수인과 진정한 소유자 모두를 보호하기 위한 법리입니다. 등기부를 신뢰하여 거래하였으나 매도인이 해당 부동산의 소유자가 아니라면 매수인으로서는 해당 부동산을 취득할 수 없게되는 문제가 발생합니다. 하지만, 매도인이 해당 부동산을 인도하지 못하였다면 매수인은 매매계약을 해제하고 매매대금 반환을 청구할 수 있으므로 법리상으로는 손해가 발생하지 않습니다. 따라서 매수인은 부동산 매매계약 시 실거주자나 등기부외 자료를 세심히 검토하여 계약을 체결해야 하며, 전문가의 도움을 받는 것이 좋습니다. 등기부만이 아닌 다른 것들도 검토할 의무가 있습니다.',\n",
       " '질문: 부동산 등기부에 등기 선순위 저당권이 없어 최우선 순위로 생각하고 임대계약을 했는데, 전입신고 당일 임대인이 은행에서 집담보 대출을 받았다면 어떻게 되는 건가요?\\n답변: 주택임대차보호법에 따르면 전입신고와 확정일자를 받으면 대항력과 우선변제권이 생깁니다. 그러나 저당권의 경우 바로 효력이 발생하므로, 저당권 등기일과 전입신고일이 같은 날인 경우 전입신고 다음날 대항력이 생기므로 저당권보다 후순위로 밀리게 됩니다.']"
      ]
     },
     "execution_count": 101,
     "metadata": {},
     "output_type": "execute_result"
    }
   ],
   "source": [
    "# gpt-4\n",
    "result_list2"
   ]
  },
  {
   "cell_type": "code",
   "execution_count": 19,
   "metadata": {},
   "outputs": [
    {
     "data": {
      "text/plain": [
       "['새로운 질문 및 답변:\\n  질문: 전세보증금 반환 문제에서 전입신고와 확정일자를 받은 후 근저당 처리가 완료된 경우, 법률적으로 선순위가 되는지와 전세금을 돌려받지 못할 시 법적 처리 방법은 무엇인가요?\\n  답변: 전입신고와 확정일자를 받은 상태에서 근저당이 없다면 법률적으로 선순위가 맞습니다. 만약 집주인이 전세금을 반환하지 못할 경우, 법원에 보증금 반환 소송을 제기하여 확정 판결을 받은 후 부동산에 대한 강제경매를 진행할 수 있습니다. 이 과정에서 전세금을 전부 돌려받지 못하는 경우, 임대인의 다른 부동산이나 동산에 대해서도 강제집행을 할 수 있으며, 이를 위해 가압류나 가처분 등의 조',\n",
       " '새로운 질문 및 답변:\\n  질문: 친구가 1300만원을 빌려줄 때 공증을 받았는데, 이 공증이 법적으로 어떤 효력을 가지며, 어느 정도까지 효력이 있는지 궁금합니다.\\n  답변: 공증은 문서가 진정으로 작성된 것임을 공증인이 확인하는 절차입니다. 특히 금전을 빌려주는 경우, 공정증서에 강제집행 인낙의 표시가 있으면, 법원의 확정판결 없이도 바로 강제집행을 할 수 있는 법적 효력을 가집니다. 이는 채무자가 채무 이행을 하지 않을 경우, 채권자가 더 신속하게 자신의 권리를 실현할 수 있도록 돕습니다.',\n",
       " '새로운 질문 및 답변:\\n  질문: 전세로 살던 집이 경매로 매각된 후, 임차인이 후순위 채권자로서 전세보증금을 일부만 회수할 수 있었을 때, 나머지 보증금을 임대인에게서 회수할 수 있는 방법과 절차는 무엇인가요?\\n  답변: 임차인이 전입신고와 확정일자를 갖추었다면, 저당권자와 유사한 위치를 가질 수 있으며, 이 경우 확정일자를 받지 못했거나 선순위 저당권자보다 순위가 낮아 전액을 회수하지 못했다면, 남은 채권에 대해 임대인에게 청구할 수 있습니다. 이를 위해 먼저 보전처분(가압류, 가처분)을 신청하고, 본안 소송을 제기한',\n",
       " '새로운 질문 및 답변:\\n  질문: 우리나라에서 부동산등기부의 공신력이 인정되지 않는 경우, 부동산 매매 시 발생하는 문제와 이에 대한 책임 소재는 어떻게 되나요?\\n  답변: 우리나라에서는 부동산등기부의 공신력이 완전히 인정되지 않기 때문에, 등기부만을 신뢰하여 부동산 매매 계약을 체결했을 경우 법적 보호를 절대적으로 받지 못합니다. 만약 매도인이 실제 부동산의 소유자가 아닌 경우, 매수인은 그 부동산을 취득할 수 없게 되며, 이로 인한 문제가 발생합니다. 그러나 매수인이 매매계약에 따라 매도인에게 매매대금 반환을 청구할 수 있으므로 법리상으로는 손해가 발생하지 않습니다. 따라서 매수인은',\n",
       " '새로운 질문 및 답변:\\n  질문: 부동산 등기부에 저당권이 없어 최우선 순위로 생각하고 임대계약을 체결한 후, 전입신고 당일 임대인이 집담보 대출을 받았을 때, 임차인의 대항력과 우선변제권은 어떻게 되나요?\\n  답변: 안녕하십니까, 월드클래스 법률사무소의 이승환 변호사입니다. 주택임대차보호법에 따라 전입신고와 확정일자를 받으면 임차인은 대항력과 우선변제권을 갖게 됩니다. 대항력은 주택 인도와 주민등록을 마친 후 다음 달부터 발생하며, 저당권은 등기일에 즉시 효력이 발생합니다. 따라서 전입신고일과 저당권 등기일이 같은 경우, 전입']"
      ]
     },
     "execution_count": 19,
     "metadata": {},
     "output_type": "execute_result"
    }
   ],
   "source": [
    "# gpt-4-turbo\n",
    "result_list4_tail"
   ]
  },
  {
   "cell_type": "code",
   "execution_count": 18,
   "metadata": {},
   "outputs": [
    {
     "data": {
      "text/plain": [
       "[ChatCompletionMessage(content='질문: 만약 전세보증금을 돌려받지 못한 경우, 법적으로 1순위가 되는 것은 무엇인가요? 그리고 법적 처리는 어떻게 이루어지나요?\\n답변: 보증금을 돌려받지 못한 경우, 법적으로 1순위가 됩니다. 이 경우 법원에 보증금반환 소송을 제기하여 확정판결을 받은 후 부동산에 대한 강제경매를 진행할 수 있습니다. 또한, 전부 돌려받지 못하는 경우 임대인의 다른 부동산, 동산 등에 대해서도 강제집행을 할 수 있습니다(다만 미리 가압류, 가처분등이 필요할 수 있습니다).', role='assistant', function_call=None, tool_calls=None),\n",
       " ChatCompletionMessage(content='질문:  친구가 공증으로 1300만원을 다른 사람에게 빌려줬다는데, 공증이 법적으로 효력이 있는 것인가요? 효력이 있다면 어느 정도까지 효력이 있는지 알려주세요.\\n답변: 공증은 사서증서 인증을 받는 경우 진정한 작성명의인의 의사에 따라 작성된 것을 공증인이 확인하는 것입니다. 금전소비대차를 함에 있어 강제집행 인낙의 표시가 있는 공정증서를 작성한 경우, 법원의 확정판결 없이도 바로 강제집행을 할 수 있습니다.', role='assistant', function_call=None, tool_calls=None),\n",
       " ChatCompletionMessage(content='질문: 경매로 인한 채권회수시 임대인이 전세보증금을 회수하기 어려운 경우, 어떻게 채권을 확보하고 회수할 수 있을까요?\\n답변: 임대인이 경매로 인한 채권회수를 위해 전세보증금을 일부만 받은 경우, 어떻게 채권을 확보하고 회수할 수 있는지에 대해 알려드리겠습니다. 임대인은 소송이나 압류 등 후속 절차를 통해 채권을 확보할 수 있습니다. 또한, 임대인의 다른 부동산이나 동산에 대해 보전처분(가압류, 가처분)을 한 뒤 본안 소송을 제기하여 확정이 된다면 집행절차에 착수할 수 있습니다. 따라서 임대인은 확정일자를 받아두고 부동산 시세와 선순위 저당권자의 채권을 파악하여 적절한 절차를 통해 채권을 확보하시기 바랍니다.', role='assistant', function_call=None, tool_calls=None),\n",
       " ChatCompletionMessage(content='질문: 부동산 매매 시 등기부의 공신력이 없는데, 소유권 분쟁 발생 시 책임은 누구에게 있는가요?\\n답변: 소유권 분쟁이 발생했을 경우, 등기부의 공신력이 없다고 해서 매매계약에 따라 책임은 매도인과 매수인 양쪽에게 분담될 수 있습니다. 매수인은 매매대금 반환과 손해배상을 요구할 수 있고, 매도인은 매수인에게 해당 부동산을 인도해야 하는 의무가 있을 수 있습니다. 따라서 소유권을 확신하기 위해서는 등기부 외에도 다른 자료를 신중히 검토하고, 전문가의 조언을 듣는 것이 중요합니다.', role='assistant', function_call=None, tool_calls=None),\n",
       " ChatCompletionMessage(content='새로운 질문:\\n부동산 등기부에 대우등기 선순위보다 후순위로 등기된 임대인과 은행에서 집담보 대출을 받은 경우, 어떻게 되는 건가요?\\n\\n답변:\\n부동산 등기부에 대우등기 선순위보다 후순위로 등기된 임대인과 은행에서 집담보 대출을 받은 경우, 주택임대차보호법에 따라 전입신고와 확정일자를 받으면 대항력과 우선변제권이 있습니다. 주임법 제3조에 따르면 주택인도와 주민등록을 마치면 그 다음달에 대항력이 생기며, 저당권은 바로 효력이 발생합니다. 만약 저당권 등기일과 전입신고일이 같은 날이면 전입신고 다음날 대항력이 생길 것이고, 이로 인해 저당권이 후순위로 밀리게 됩니다.', role='assistant', function_call=None, tool_calls=None)]"
      ]
     },
     "execution_count": 18,
     "metadata": {},
     "output_type": "execute_result"
    }
   ],
   "source": [
    "# gpt-3.5-turbo\n",
    "result_list2_tail"
   ]
  },
  {
   "cell_type": "code",
   "execution_count": 22,
   "metadata": {},
   "outputs": [
    {
     "data": {
      "text/plain": [
       "[CompletionChoice(finish_reason='length', index=0, logprobs=None, text='\\n 질문: 전입신고와 확정일자를'),\n",
       " CompletionChoice(finish_reason='length', index=0, logprobs=None, text='\\n\\n 질문: 친구가 공증을 받고'),\n",
       " CompletionChoice(finish_reason='length', index=0, logprobs=None, text='\\n질문: 임대인보다 후순위'),\n",
       " CompletionChoice(finish_reason='length', index=0, logprobs=None, text='\\n질문: 현재 부동산 매매에서 일'),\n",
       " CompletionChoice(finish_reason='length', index=0, logprobs=None, text='\\n  질문: 임대인이 은행에서')]"
      ]
     },
     "execution_count": 22,
     "metadata": {},
     "output_type": "execute_result"
    }
   ],
   "source": [
    "# gpt-3.5-turbo-instruct\n",
    "result_list3_tail"
   ]
  },
  {
   "cell_type": "code",
   "execution_count": 19,
   "metadata": {},
   "outputs": [
    {
     "name": "stdout",
     "output_type": "stream",
     "text": [
      "재목:  28.888983697848836\n",
      "본문:  227.26466070867204\n",
      "대답:  2.220011676471909\n"
     ]
    }
   ],
   "source": [
    "print('재목: ', df['제목'].apply(len).mean())\n",
    "print('본문: ', df['본문'].apply(len).mean())\n",
    "print('대답: ', df['대답'].apply(len).mean())"
   ]
  },
  {
   "cell_type": "markdown",
   "metadata": {},
   "source": [
    "----"
   ]
  }
 ],
 "metadata": {
  "kernelspec": {
   "display_name": "LG",
   "language": "python",
   "name": "python3"
  },
  "language_info": {
   "codemirror_mode": {
    "name": "ipython",
    "version": 3
   },
   "file_extension": ".py",
   "mimetype": "text/x-python",
   "name": "python",
   "nbconvert_exporter": "python",
   "pygments_lexer": "ipython3",
   "version": "3.11.7"
  }
 },
 "nbformat": 4,
 "nbformat_minor": 2
}
