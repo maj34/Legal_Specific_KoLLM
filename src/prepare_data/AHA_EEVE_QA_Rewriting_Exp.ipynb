{
 "cells": [
  {
   "cell_type": "markdown",
   "metadata": {},
   "source": [
    "# EEVE QA Rewriting"
   ]
  },
  {
   "cell_type": "code",
   "execution_count": 1,
   "metadata": {},
   "outputs": [
    {
     "data": {
      "application/vnd.jupyter.widget-view+json": {
       "model_id": "cad67c9be7904184b946e4b242eef048",
       "version_major": 2,
       "version_minor": 0
      },
      "text/plain": [
       "Downloading tokenizer_config.json:   0%|          | 0.00/1.86k [00:00<?, ?B/s]"
      ]
     },
     "metadata": {},
     "output_type": "display_data"
    },
    {
     "data": {
      "application/vnd.jupyter.widget-view+json": {
       "model_id": "63a00bde4942487eb7ee44e255a1730e",
       "version_major": 2,
       "version_minor": 0
      },
      "text/plain": [
       "Downloading tokenizer.json:   0%|          | 0.00/2.18M [00:00<?, ?B/s]"
      ]
     },
     "metadata": {},
     "output_type": "display_data"
    },
    {
     "data": {
      "application/vnd.jupyter.widget-view+json": {
       "model_id": "74bdbd07939f4eb6b99f841ef331d4ca",
       "version_major": 2,
       "version_minor": 0
      },
      "text/plain": [
       "Downloading (…)cial_tokens_map.json:   0%|          | 0.00/557 [00:00<?, ?B/s]"
      ]
     },
     "metadata": {},
     "output_type": "display_data"
    },
    {
     "data": {
      "application/vnd.jupyter.widget-view+json": {
       "model_id": "af23b62b6e3d4f45a2187d9e634b5b66",
       "version_major": 2,
       "version_minor": 0
      },
      "text/plain": [
       "Downloading config.json:   0%|          | 0.00/704 [00:00<?, ?B/s]"
      ]
     },
     "metadata": {},
     "output_type": "display_data"
    },
    {
     "data": {
      "application/vnd.jupyter.widget-view+json": {
       "model_id": "e09d88a779e844278e26c23511a8eb8e",
       "version_major": 2,
       "version_minor": 0
      },
      "text/plain": [
       "Downloading (…)fetensors.index.json:   0%|          | 0.00/35.8k [00:00<?, ?B/s]"
      ]
     },
     "metadata": {},
     "output_type": "display_data"
    },
    {
     "data": {
      "application/vnd.jupyter.widget-view+json": {
       "model_id": "08adcac1885d47769513dd69a55f92e3",
       "version_major": 2,
       "version_minor": 0
      },
      "text/plain": [
       "Downloading shards:   0%|          | 0/5 [00:00<?, ?it/s]"
      ]
     },
     "metadata": {},
     "output_type": "display_data"
    },
    {
     "data": {
      "application/vnd.jupyter.widget-view+json": {
       "model_id": "f3e8e5b59e874e0091816adcc1f35caa",
       "version_major": 2,
       "version_minor": 0
      },
      "text/plain": [
       "Downloading (…)of-00005.safetensors:   0%|          | 0.00/4.90G [00:00<?, ?B/s]"
      ]
     },
     "metadata": {},
     "output_type": "display_data"
    },
    {
     "data": {
      "application/vnd.jupyter.widget-view+json": {
       "model_id": "d63d6ae15bde407781da364f06a8a1f5",
       "version_major": 2,
       "version_minor": 0
      },
      "text/plain": [
       "Downloading (…)of-00005.safetensors:   0%|          | 0.00/4.92G [00:00<?, ?B/s]"
      ]
     },
     "metadata": {},
     "output_type": "display_data"
    },
    {
     "data": {
      "application/vnd.jupyter.widget-view+json": {
       "model_id": "60ed127fd8b746b593f3100e37a00c13",
       "version_major": 2,
       "version_minor": 0
      },
      "text/plain": [
       "Downloading (…)of-00005.safetensors:   0%|          | 0.00/5.00G [00:00<?, ?B/s]"
      ]
     },
     "metadata": {},
     "output_type": "display_data"
    },
    {
     "data": {
      "application/vnd.jupyter.widget-view+json": {
       "model_id": "aa0cdc8628a34b62a0d7dd971c35b8b9",
       "version_major": 2,
       "version_minor": 0
      },
      "text/plain": [
       "Downloading (…)of-00005.safetensors:   0%|          | 0.00/4.92G [00:00<?, ?B/s]"
      ]
     },
     "metadata": {},
     "output_type": "display_data"
    },
    {
     "data": {
      "application/vnd.jupyter.widget-view+json": {
       "model_id": "448f976881af4410abe4950b6a68880e",
       "version_major": 2,
       "version_minor": 0
      },
      "text/plain": [
       "Downloading (…)of-00005.safetensors:   0%|          | 0.00/1.88G [00:00<?, ?B/s]"
      ]
     },
     "metadata": {},
     "output_type": "display_data"
    },
    {
     "data": {
      "application/vnd.jupyter.widget-view+json": {
       "model_id": "500fc1b6e78b4e899806d1e71f85c1fd",
       "version_major": 2,
       "version_minor": 0
      },
      "text/plain": [
       "Loading checkpoint shards:   0%|          | 0/5 [00:00<?, ?it/s]"
      ]
     },
     "metadata": {},
     "output_type": "display_data"
    }
   ],
   "source": [
    "from transformers import AutoTokenizer, AutoModelForCausalLM\n",
    "\n",
    "tokenizer = AutoTokenizer.from_pretrained(\"yanolja/EEVE-Korean-Instruct-10.8B-v1.0\")\n",
    "model = AutoModelForCausalLM.from_pretrained(\"yanolja/EEVE-Korean-Instruct-10.8B-v1.0\")"
   ]
  },
  {
   "cell_type": "code",
   "execution_count": 3,
   "metadata": {},
   "outputs": [
    {
     "data": {
      "text/html": [
       "<div>\n",
       "<style scoped>\n",
       "    .dataframe tbody tr th:only-of-type {\n",
       "        vertical-align: middle;\n",
       "    }\n",
       "\n",
       "    .dataframe tbody tr th {\n",
       "        vertical-align: top;\n",
       "    }\n",
       "\n",
       "    .dataframe thead th {\n",
       "        text-align: right;\n",
       "    }\n",
       "</style>\n",
       "<table border=\"1\" class=\"dataframe\">\n",
       "  <thead>\n",
       "    <tr style=\"text-align: right;\">\n",
       "      <th></th>\n",
       "      <th>urls</th>\n",
       "      <th>title</th>\n",
       "      <th>question</th>\n",
       "      <th>answer</th>\n",
       "    </tr>\n",
       "  </thead>\n",
       "  <tbody>\n",
       "    <tr>\n",
       "      <th>0</th>\n",
       "      <td>https://www.a-ha.io/questions/4cb726a43f6fea7f...</td>\n",
       "      <td>상법에서 정한 기한을 넘어선 주주총회의사록 공증 진행시 효력이 있는지요?</td>\n",
       "      <td>안녕하세요,주주총회를 진행한 이후 일정 기간안에 법무사를 통한 공증을 진행해야 하는...</td>\n",
       "      <td>[안녕하세요. 이성재 변호사입니다.주주총회 결의사항 중 등기사항이 없다면 공증을 받...</td>\n",
       "    </tr>\n",
       "    <tr>\n",
       "      <th>1</th>\n",
       "      <td>https://www.a-ha.io/questions/4a8035d424b93c9e...</td>\n",
       "      <td>형사사법포털에는 기소유예가 떴는데 아직 어떠한 연락도 안와서요 혹시 왜그런건가요?</td>\n",
       "      <td>점유이탈횡령죄로 조사받고 얼마전 2일 기소유예 처분을 받았습니다. 근데 연락 받아서...</td>\n",
       "      <td>[안녕하세요? 아하(Aha) 법률 상담 지식답변자 김성훈 변호사입니다. 질문하신 내...</td>\n",
       "    </tr>\n",
       "    <tr>\n",
       "      <th>2</th>\n",
       "      <td>https://www.a-ha.io/questions/496d83cb9dfc2408...</td>\n",
       "      <td>자본금 10억 미만의 법인회사에서 이사가 1명일 때 발생하는 문제점</td>\n",
       "      <td>안녕하세요,자본금 10억 미만의 회사지만 외부에서 투자를 많이 받고 있습니다.자본금...</td>\n",
       "      <td>[10억 미만의 회사이고 이사가 과반주주권자라면,주주총회 등을 적법하게 통지하고 개...</td>\n",
       "    </tr>\n",
       "    <tr>\n",
       "      <th>3</th>\n",
       "      <td>https://www.a-ha.io/questions/4860dd4377505d30...</td>\n",
       "      <td>모든 계약은 법적으로 15일이내 해지가 가능한지요~?</td>\n",
       "      <td>한 회사(판매 사업)에 지사 계약을 일주일전에 했는데 할수없는상황이 되서 해지를 하...</td>\n",
       "      <td>[모든 계약에 대해서는 15일 만에 해지가 가능하다고 하는 규정은 따로 없습니다해당...</td>\n",
       "    </tr>\n",
       "    <tr>\n",
       "      <th>4</th>\n",
       "      <td>https://www.a-ha.io/questions/4afe128df4bd0726...</td>\n",
       "      <td>항소심 재판은 어떻게 진행되는건가요?</td>\n",
       "      <td>아는 지인이 항소후에 항소심 재판이 열리는데 어떻게 진행되는지 궁금합니다. 혹시 변...</td>\n",
       "      <td>[안녕하세요? 아하(Aha) 법률 상담 지식답변자 김성훈 변호사입니다. 질문하신 내...</td>\n",
       "    </tr>\n",
       "  </tbody>\n",
       "</table>\n",
       "</div>"
      ],
      "text/plain": [
       "                                                urls  \\\n",
       "0  https://www.a-ha.io/questions/4cb726a43f6fea7f...   \n",
       "1  https://www.a-ha.io/questions/4a8035d424b93c9e...   \n",
       "2  https://www.a-ha.io/questions/496d83cb9dfc2408...   \n",
       "3  https://www.a-ha.io/questions/4860dd4377505d30...   \n",
       "4  https://www.a-ha.io/questions/4afe128df4bd0726...   \n",
       "\n",
       "                                           title  \\\n",
       "0       상법에서 정한 기한을 넘어선 주주총회의사록 공증 진행시 효력이 있는지요?   \n",
       "1  형사사법포털에는 기소유예가 떴는데 아직 어떠한 연락도 안와서요 혹시 왜그런건가요?   \n",
       "2          자본금 10억 미만의 법인회사에서 이사가 1명일 때 발생하는 문제점   \n",
       "3                  모든 계약은 법적으로 15일이내 해지가 가능한지요~?   \n",
       "4                           항소심 재판은 어떻게 진행되는건가요?   \n",
       "\n",
       "                                            question  \\\n",
       "0  안녕하세요,주주총회를 진행한 이후 일정 기간안에 법무사를 통한 공증을 진행해야 하는...   \n",
       "1  점유이탈횡령죄로 조사받고 얼마전 2일 기소유예 처분을 받았습니다. 근데 연락 받아서...   \n",
       "2  안녕하세요,자본금 10억 미만의 회사지만 외부에서 투자를 많이 받고 있습니다.자본금...   \n",
       "3  한 회사(판매 사업)에 지사 계약을 일주일전에 했는데 할수없는상황이 되서 해지를 하...   \n",
       "4  아는 지인이 항소후에 항소심 재판이 열리는데 어떻게 진행되는지 궁금합니다. 혹시 변...   \n",
       "\n",
       "                                              answer  \n",
       "0  [안녕하세요. 이성재 변호사입니다.주주총회 결의사항 중 등기사항이 없다면 공증을 받...  \n",
       "1  [안녕하세요? 아하(Aha) 법률 상담 지식답변자 김성훈 변호사입니다. 질문하신 내...  \n",
       "2  [10억 미만의 회사이고 이사가 과반주주권자라면,주주총회 등을 적법하게 통지하고 개...  \n",
       "3  [모든 계약에 대해서는 15일 만에 해지가 가능하다고 하는 규정은 따로 없습니다해당...  \n",
       "4  [안녕하세요? 아하(Aha) 법률 상담 지식답변자 김성훈 변호사입니다. 질문하신 내...  "
      ]
     },
     "execution_count": 3,
     "metadata": {},
     "output_type": "execute_result"
    }
   ],
   "source": [
    "import json\n",
    "import pandas as pd\n",
    "\n",
    "with open('./data/a_ha_original.json', 'r') as f:\n",
    "    data = json.load(f)\n",
    "\n",
    "df = pd.DataFrame(data).transpose()\n",
    "df.head()"
   ]
  },
  {
   "cell_type": "code",
   "execution_count": 4,
   "metadata": {},
   "outputs": [],
   "source": [
    "with open('../prompt/AHA_Prompt.txt', 'r') as f:\n",
    "    prompt_file = f.read()"
   ]
  },
  {
   "cell_type": "code",
   "execution_count": 6,
   "metadata": {},
   "outputs": [
    {
     "name": "stderr",
     "output_type": "stream",
     "text": [
      "Setting `pad_token_id` to `eos_token_id`:32000 for open-end generation.\n"
     ]
    }
   ],
   "source": [
    "prompt_template = \"A chat between a curious user and an artificial intelligence assistant. The assistant gives helpful, detailed, and polite answers to the user's questions.\\nHuman: {prompt}\\nAssistant:\\n\"\n",
    "\n",
    "for i in df.tail().iterrows():\n",
    "    prompt = prompt_file.format(i[1]['title'], i[1]['question'], i[1]['answer'])\n",
    "\n",
    "    model_inputs = tokenizer(prompt_template.format(prompt=prompt_file), return_tensors='pt')\n",
    "\n",
    "    outputs = model.generate(**model_inputs, max_new_tokens=256)\n",
    "    output_text = tokenizer.batch_decode(outputs, skip_special_tokens=True)[0]\n",
    "    print(output_text)"
   ]
  },
  {
   "cell_type": "markdown",
   "metadata": {},
   "source": [
    "----"
   ]
  }
 ],
 "metadata": {
  "kernelspec": {
   "display_name": "base",
   "language": "python",
   "name": "python3"
  },
  "language_info": {
   "codemirror_mode": {
    "name": "ipython",
    "version": 3
   },
   "file_extension": ".py",
   "mimetype": "text/x-python",
   "name": "python",
   "nbconvert_exporter": "python",
   "pygments_lexer": "ipython3",
   "version": "3.11.7"
  }
 },
 "nbformat": 4,
 "nbformat_minor": 2
}
